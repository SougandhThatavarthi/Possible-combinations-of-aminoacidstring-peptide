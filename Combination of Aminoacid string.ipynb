{
 "cells": [
  {
   "cell_type": "code",
   "execution_count": null,
   "id": "18239893",
   "metadata": {},
   "outputs": [],
   "source": [
    "subpeptide = {'G':57,'A':71,'S':87,'P':97,'V':99,'T':101,'C':103,'I':113,'L':113,'N':114,'D':115,'K':128,'Q':128,'E':129,'M':131,'H':137,'F':147,'R':156,'Y':163,'W':186}\n",
    "keys = subpeptide.keys()\n",
    "\n",
    "import itertools\n",
    "all_comb = list(itertools.permutations(keys,4))\n",
    "#print(all_comb)\n",
    "ans=[]\n",
    "for val in all_comb:\n",
    "    lt = list(val)\n",
    "    sum = subpeptide[lt[0]] + subpeptide[lt[1]] + subpeptide[lt[2]] + subpeptide[lt[3]]\n",
    "    if sum == 484:\n",
    "        ans.append(val)\n",
    "    \n",
    "print(ans)\n",
    "print(len(ans))"
   ]
  }
 ],
 "metadata": {
  "kernelspec": {
   "display_name": "Python 3",
   "language": "python",
   "name": "python3"
  },
  "language_info": {
   "codemirror_mode": {
    "name": "ipython",
    "version": 3
   },
   "file_extension": ".py",
   "mimetype": "text/x-python",
   "name": "python",
   "nbconvert_exporter": "python",
   "pygments_lexer": "ipython3",
   "version": "3.8.8"
  }
 },
 "nbformat": 4,
 "nbformat_minor": 5
}
